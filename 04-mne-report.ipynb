{
 "cells": [
  {
   "cell_type": "markdown",
   "metadata": {
    "slideshow": {
     "slide_type": "slide"
    }
   },
   "source": [
    "# Quality assurance with MNE report"
   ]
  },
  {
   "cell_type": "markdown",
   "metadata": {
    "slideshow": {
     "slide_type": "subslide"
    }
   },
   "source": [
    "Let's say we want to analyze 100 subjects.\n",
    "\n",
    "How do we do quality assurancy in a scalable manner?"
   ]
  },
  {
   "cell_type": "markdown",
   "metadata": {
    "slideshow": {
     "slide_type": "subslide"
    }
   },
   "source": [
    "## MNE report"
   ]
  },
  {
   "cell_type": "code",
   "execution_count": 50,
   "metadata": {
    "slideshow": {
     "slide_type": "-"
    }
   },
   "outputs": [],
   "source": [
    "from mne.report import Report"
   ]
  },
  {
   "cell_type": "markdown",
   "metadata": {
    "slideshow": {
     "slide_type": "fragment"
    }
   },
   "source": [
    "A report contains:\n",
    "    * Figures\n",
    "    * Images\n",
    "    * Custom HTML\n",
    "    * Sliders"
   ]
  },
  {
   "cell_type": "markdown",
   "metadata": {
    "slideshow": {
     "slide_type": "subslide"
    }
   },
   "source": [
    "First, let us generate some figures for the report."
   ]
  },
  {
   "cell_type": "code",
   "execution_count": 51,
   "metadata": {
    "slideshow": {
     "slide_type": "fragment"
    }
   },
   "outputs": [
    {
     "name": "stdout",
     "output_type": "stream",
     "text": [
      "Opening raw data file /Users/mainak/mne_data/MNE-sample-data/MEG/sample/sample_audvis_raw.fif...\n",
      "    Read a total of 3 projection items:\n",
      "        PCA-v1 (1 x 102)  idle\n",
      "        PCA-v2 (1 x 102)  idle\n",
      "        PCA-v3 (1 x 102)  idle\n",
      "    Range : 25800 ... 192599 =     42.956 ...   320.670 secs\n",
      "Ready.\n",
      "Reading 0 ... 166799  =      0.000 ...   277.714 secs...\n"
     ]
    }
   ],
   "source": [
    "%matplotlib inline\n",
    "\n",
    "import mne\n",
    "from mne.datasets import sample\n",
    "\n",
    "mne.viz.set_browser_backend('matplotlib')\n",
    "\n",
    "data_path = sample.data_path()\n",
    "raw_fname = data_path / 'MEG' / 'sample' / 'sample_audvis_raw.fif'\n",
    "raw = mne.io.read_raw_fif(raw_fname, preload=True)"
   ]
  },
  {
   "cell_type": "markdown",
   "metadata": {
    "slideshow": {
     "slide_type": "subslide"
    }
   },
   "source": [
    "Now let's pretend this data came from 3 different subjects"
   ]
  },
  {
   "cell_type": "code",
   "execution_count": 52,
   "metadata": {
    "slideshow": {
     "slide_type": "-"
    }
   },
   "outputs": [
    {
     "name": "stdout",
     "output_type": "stream",
     "text": [
      "Overwriting existing file.\n",
      "Writing /Users/mainak/mne_data/MNE-sample-data/MEG/sample/sub-01_raw.fif\n",
      "Closing /Users/mainak/mne_data/MNE-sample-data/MEG/sample/sub-01_raw.fif\n",
      "[done]\n",
      "Overwriting existing file.\n",
      "Writing /Users/mainak/mne_data/MNE-sample-data/MEG/sample/sub-02_raw.fif\n",
      "Closing /Users/mainak/mne_data/MNE-sample-data/MEG/sample/sub-02_raw.fif\n",
      "[done]\n",
      "Overwriting existing file.\n",
      "Writing /Users/mainak/mne_data/MNE-sample-data/MEG/sample/sub-03_raw.fif\n",
      "Closing /Users/mainak/mne_data/MNE-sample-data/MEG/sample/sub-03_raw.fif\n",
      "[done]\n"
     ]
    }
   ],
   "source": [
    "raw1 = raw.copy().crop(0, 20)\n",
    "raw2 = raw.copy().crop(20, 40)\n",
    "raw3 = raw.copy().crop(40, 60)\n",
    "\n",
    "raw1.save(data_path / 'MEG' / 'sample' / 'sub-01_raw.fif', overwrite=True)\n",
    "raw2.save(data_path / 'MEG' / 'sample' / 'sub-02_raw.fif', overwrite=True)\n",
    "raw3.save(data_path / 'MEG' / 'sample' / 'sub-03_raw.fif', overwrite=True)"
   ]
  },
  {
   "cell_type": "markdown",
   "metadata": {
    "slideshow": {
     "slide_type": "subslide"
    }
   },
   "source": [
    "Now, we can have a function to go from raw to evoked"
   ]
  },
  {
   "cell_type": "code",
   "execution_count": 53,
   "metadata": {
    "slideshow": {
     "slide_type": "-"
    }
   },
   "outputs": [],
   "source": [
    "event_id = {'Auditory/Left': 3, 'Auditory/Right': 4}\n",
    "\n",
    "def raw_to_evoked(raw_fname, tmin=-0.1, tmax=0.5):\n",
    "    \n",
    "    raw = mne.io.read_raw_fif(data_path / 'MEG' / 'sample' / raw_fname, preload=True)\n",
    "    fig1 = raw.plot();\n",
    "    raw.filter(0, 40.)\n",
    "    \n",
    "    events = mne.find_events(raw, stim_channel='STI 014')\n",
    "    epochs = mne.Epochs(raw, events, event_id, tmin, tmax)\n",
    "    fig2 = epochs.plot();\n",
    "    \n",
    "    evoked_l = epochs['Left'].average();\n",
    "    fig3 = evoked_l.plot_topomap()\n",
    "    fig4 = evoked_l.plot();\n",
    "    \n",
    "    return [fig1, fig2, fig3, fig4]"
   ]
  },
  {
   "cell_type": "markdown",
   "metadata": {
    "slideshow": {
     "slide_type": "subslide"
    }
   },
   "source": [
    "Now, we can get all the figure handles:"
   ]
  },
  {
   "cell_type": "code",
   "execution_count": 54,
   "metadata": {
    "slideshow": {
     "slide_type": "-"
    }
   },
   "outputs": [],
   "source": [
    "%%capture\n",
    "figs = raw_to_evoked('sub-01_raw.fif')"
   ]
  },
  {
   "cell_type": "markdown",
   "metadata": {
    "slideshow": {
     "slide_type": "subslide"
    }
   },
   "source": [
    "Now comes the actual report"
   ]
  },
  {
   "cell_type": "code",
   "execution_count": 55,
   "metadata": {
    "slideshow": {
     "slide_type": "-"
    }
   },
   "outputs": [
    {
     "name": "stdout",
     "output_type": "stream",
     "text": [
      "Embedding : jquery-3.6.0.min.js\n",
      "Embedding : bootstrap.bundle.min.js\n",
      "Embedding : bootstrap.min.css\n",
      "Embedding : bootstrap-table/bootstrap-table.min.js\n",
      "Embedding : bootstrap-table/bootstrap-table.min.css\n",
      "Embedding : bootstrap-table/bootstrap-table-copy-rows.min.js\n",
      "Embedding : bootstrap-table/bootstrap-table-export.min.js\n",
      "Embedding : bootstrap-table/tableExport.min.js\n",
      "Embedding : bootstrap-icons/bootstrap-icons.mne.min.css\n",
      "Embedding : highlightjs/highlight.min.js\n",
      "Embedding : highlightjs/atom-one-dark-reasonable.min.css\n"
     ]
    }
   ],
   "source": [
    "rep = Report()"
   ]
  },
  {
   "cell_type": "code",
   "execution_count": 56,
   "metadata": {},
   "outputs": [],
   "source": [
    "rep.add_figure?"
   ]
  },
  {
   "cell_type": "code",
   "execution_count": 58,
   "metadata": {
    "slideshow": {
     "slide_type": "subslide"
    }
   },
   "outputs": [
    {
     "name": "stdout",
     "output_type": "stream",
     "text": [
      "Overwriting existing file.\n",
      "Saving report to : /Users/mainak/Desktop/github_repos/mne-workshop-mit/report_raw_to_evoked.html\n"
     ]
    },
    {
     "data": {
      "text/plain": [
       "'/Users/mainak/Desktop/github_repos/mne-workshop-mit/report_raw_to_evoked.html'"
      ]
     },
     "execution_count": 58,
     "metadata": {},
     "output_type": "execute_result"
    }
   ],
   "source": [
    "captions = ['Raw', 'Epochs', 'Topomap', 'Butterfly']\n",
    "for fig, caption in zip(figs, captions):\n",
    "    rep.add_figure(fig, caption=caption, title=caption)\n",
    "rep.save('report_raw_to_evoked.html', overwrite=True)"
   ]
  },
  {
   "cell_type": "markdown",
   "metadata": {
    "slideshow": {
     "slide_type": "fragment"
    }
   },
   "source": [
    "The report can be found [here](report_raw_to_evoked.html)"
   ]
  },
  {
   "cell_type": "markdown",
   "metadata": {
    "slideshow": {
     "slide_type": "subslide"
    }
   },
   "source": [
    "We can go even more fancy. Let's try to process all the three subjects."
   ]
  },
  {
   "cell_type": "code",
   "execution_count": 60,
   "metadata": {
    "slideshow": {
     "slide_type": "-"
    }
   },
   "outputs": [],
   "source": [
    "%%capture\n",
    "rep = Report()\n",
    "for idx, r in enumerate(['sub-01_raw.fif', 'sub-02_raw.fif', 'sub-03_raw.fif']):\n",
    "    figs = raw_to_evoked(r)\n",
    "    for fig, caption in zip(figs, captions):\n",
    "        rep.add_figure(fig, caption=caption, title=caption, section='Subject %02d' % idx)\n",
    "rep.save('report_raw_to_evoked.html', overwrite=True)"
   ]
  },
  {
   "cell_type": "markdown",
   "metadata": {
    "slideshow": {
     "slide_type": "skip"
    }
   },
   "source": [
    "There are tabs for each subject!"
   ]
  },
  {
   "cell_type": "markdown",
   "metadata": {
    "slideshow": {
     "slide_type": "slide"
    }
   },
   "source": [
    "Parallel processing\n",
    "-------------------"
   ]
  },
  {
   "cell_type": "code",
   "execution_count": 61,
   "metadata": {
    "slideshow": {
     "slide_type": "-"
    }
   },
   "outputs": [
    {
     "name": "stderr",
     "output_type": "stream",
     "text": [
      "[Parallel(n_jobs=3)]: Using backend LokyBackend with 3 concurrent workers.\n"
     ]
    },
    {
     "name": "stdout",
     "output_type": "stream",
     "text": [
      "Opening raw data file /Users/mainak/mne_data/MNE-sample-data/MEG/sample/sub-02_raw.fif...\n",
      "Opening raw data file /Users/mainak/mne_data/MNE-sample-data/MEG/sample/sub-01_raw.fif...\n",
      "Opening raw data file /Users/mainak/mne_data/MNE-sample-data/MEG/sample/sub-03_raw.fif...\n",
      "    Read a total of 3 projection items:\n",
      "    Read a total of 3 projection items:\n",
      "        PCA-v1 (1 x 102)  idle\n",
      "    Read a total of 3 projection items:\n",
      "        PCA-v1 (1 x 102)  idle\n",
      "        PCA-v2 (1 x 102)  idle\n",
      "        PCA-v1 (1 x 102)  idle\n",
      "        PCA-v2 (1 x 102)  idle\n",
      "        PCA-v3 (1 x 102)  idle\n",
      "        PCA-v3 (1 x 102)  idle\n",
      "        PCA-v2 (1 x 102)  idle\n",
      "        PCA-v3 (1 x 102)  idle\n",
      "    Range : 49825 ... 61837 =     82.957 ...   102.956 secs\n",
      "    Range : 37812 ... 49825 =     62.955 ...    82.957 secs\n",
      "    Range : 25800 ... 37812 =     42.956 ...    62.955 secs\n",
      "Ready.\n",
      "Ready.\n",
      "Ready.\n",
      "Reading 0 ... 12013  =      0.000 ...    20.001 secs...\n",
      "Reading 0 ... 12012  =      0.000 ...    20.000 secs...\n",
      "Reading 0 ... 12012  =      0.000 ...    20.000 secs...\n",
      "Filtering raw data in 1 contiguous segment\n",
      "Filtering raw data in 1 contiguous segment\n",
      "Filtering raw data in 1 contiguous segment\n",
      "Setting up low-pass filter at 40 Hz\n",
      "Setting up low-pass filter at 40 Hz\n",
      "Setting up low-pass filter at 40 Hz\n",
      "\n",
      "\n",
      "FIR filter parameters\n",
      "FIR filter parameters\n",
      "---------------------\n",
      "\n",
      "---------------------\n",
      "Designing a one-pass, zero-phase, non-causal lowpass filter:\n",
      "Designing a one-pass, zero-phase, non-causal lowpass filter:\n",
      "- Windowed time-domain design (firwin) method\n",
      "FIR filter parameters\n",
      "- Windowed time-domain design (firwin) method\n",
      "---------------------\n",
      "Designing a one-pass, zero-phase, non-causal lowpass filter:\n",
      "- Windowed time-domain design (firwin) method\n",
      "- Hamming window with 0.0194 passband ripple and 53 dB stopband attenuation\n",
      "- Hamming window with 0.0194 passband ripple and 53 dB stopband attenuation\n",
      "- Hamming window with 0.0194 passband ripple and 53 dB stopband attenuation\n",
      "- Upper passband edge: 40.00 Hz\n",
      "- Upper passband edge: 40.00 Hz\n",
      "- Upper passband edge: 40.00 Hz\n",
      "- Upper transition bandwidth: 10.00 Hz (-6 dB cutoff frequency: 45.00 Hz)\n",
      "- Upper transition bandwidth: 10.00 Hz (-6 dB cutoff frequency: 45.00 Hz)\n",
      "- Upper transition bandwidth: 10.00 Hz (-6 dB cutoff frequency: 45.00 Hz)\n",
      "- Filter length: 199 samples (0.331 s)\n",
      "- Filter length: 199 samples (0.331 s)\n",
      "\n",
      "\n",
      "- Filter length: 199 samples (0.331 s)\n",
      "\n"
     ]
    },
    {
     "name": "stderr",
     "output_type": "stream",
     "text": [
      "[Parallel(n_jobs=1)]: Done  17 tasks      | elapsed:    0.0s\n",
      "[Parallel(n_jobs=1)]: Done  17 tasks      | elapsed:    0.0s\n",
      "[Parallel(n_jobs=1)]: Done  17 tasks      | elapsed:    0.0s\n",
      "[Parallel(n_jobs=1)]: Done  71 tasks      | elapsed:    0.0s\n",
      "[Parallel(n_jobs=1)]: Done  71 tasks      | elapsed:    0.0s\n",
      "[Parallel(n_jobs=1)]: Done  71 tasks      | elapsed:    0.0s\n",
      "[Parallel(n_jobs=1)]: Done 161 tasks      | elapsed:    0.1s\n",
      "[Parallel(n_jobs=1)]: Done 161 tasks      | elapsed:    0.1s\n",
      "[Parallel(n_jobs=1)]: Done 161 tasks      | elapsed:    0.1s\n",
      "[Parallel(n_jobs=1)]: Done 287 tasks      | elapsed:    0.1s\n",
      "[Parallel(n_jobs=1)]: Done 287 tasks      | elapsed:    0.1s\n",
      "[Parallel(n_jobs=1)]: Done 287 tasks      | elapsed:    0.1s\n"
     ]
    },
    {
     "name": "stdout",
     "output_type": "stream",
     "text": [
      "25 events found on stim channel STI 014\n",
      "Event IDs: [ 1  2  3  4  5 32]\n",
      "30 events found on stim channel STI 014\n",
      "Event IDs: [ 1  2  3  4  5 32]\n",
      "Not setting metadata\n",
      "Not setting metadata\n",
      "13 matching events found\n",
      "11 matching events found\n",
      "31 events found on stim channel STI 014\n",
      "Event IDs: [ 1  2  3  4  5 32]\n",
      "Not setting metadata\n",
      "14 matching events found\n",
      "Setting baseline interval to [-0.09989760657919393, 0.0] s\n",
      "Applying baseline correction (mode: mean)\n",
      "Setting baseline interval to [-0.09989760657919393, 0.0] s\n",
      "Applying baseline correction (mode: mean)\n",
      "Setting baseline interval to [-0.09989760657919393, 0.0] s\n",
      "Applying baseline correction (mode: mean)\n",
      "Created an SSP operator (subspace dimension = 3)\n",
      "Created an SSP operator (subspace dimension = 3)\n",
      "3 projection items activated\n",
      "Created an SSP operator (subspace dimension = 3)\n",
      "3 projection items activated\n",
      "3 projection items activated\n"
     ]
    },
    {
     "name": "stderr",
     "output_type": "stream",
     "text": [
      "[Parallel(n_jobs=3)]: Done   3 out of   3 | elapsed:    3.3s finished\n"
     ]
    }
   ],
   "source": [
    "def raw_to_evoked(raw_fname, tmin=-0.1, tmax=0.5):\n",
    "    raw = mne.io.read_raw_fif(data_path / 'MEG' / 'sample' / raw_fname, preload=True)\n",
    "    raw.filter(0, 40.)\n",
    "    events = mne.find_events(raw, stim_channel='STI 014')\n",
    "    epochs = mne.Epochs(raw, events, event_id, tmin, tmax)\n",
    "    evoked_l = epochs['Left'].average();\n",
    "\n",
    "from mne.parallel import parallel_func\n",
    "\n",
    "fnames = ['sub-01_raw.fif', 'sub-02_raw.fif', 'sub-03_raw.fif']\n",
    "parallel, myfunc, _ = parallel_func(raw_to_evoked, n_jobs=3)\n",
    "parallel(myfunc(fname) for fname in fnames);"
   ]
  },
  {
   "cell_type": "markdown",
   "metadata": {
    "slideshow": {
     "slide_type": "slide"
    }
   },
   "source": [
    "BEM sliders\n",
    "-----------"
   ]
  },
  {
   "cell_type": "markdown",
   "metadata": {
    "slideshow": {
     "slide_type": "-"
    }
   },
   "source": [
    "What else can you do? You can inspect quality of the BEM with sliders."
   ]
  },
  {
   "cell_type": "code",
   "execution_count": 63,
   "metadata": {
    "slideshow": {
     "slide_type": "fragment"
    }
   },
   "outputs": [
    {
     "name": "stdout",
     "output_type": "stream",
     "text": [
      "Embedding : jquery-3.6.0.min.js\n",
      "Embedding : bootstrap.bundle.min.js\n",
      "Embedding : bootstrap.min.css\n",
      "Embedding : bootstrap-table/bootstrap-table.min.js\n",
      "Embedding : bootstrap-table/bootstrap-table.min.css\n",
      "Embedding : bootstrap-table/bootstrap-table-copy-rows.min.js\n",
      "Embedding : bootstrap-table/bootstrap-table-export.min.js\n",
      "Embedding : bootstrap-table/tableExport.min.js\n",
      "Embedding : bootstrap-icons/bootstrap-icons.mne.min.css\n",
      "Embedding : highlightjs/highlight.min.js\n",
      "Embedding : highlightjs/atom-one-dark-reasonable.min.css\n",
      "Using surface: /Users/mainak/mne_data/MNE-sample-data/subjects/sample/bem/inner_skull.surf\n",
      "Using surface: /Users/mainak/mne_data/MNE-sample-data/subjects/sample/bem/outer_skull.surf\n",
      "Using surface: /Users/mainak/mne_data/MNE-sample-data/subjects/sample/bem/outer_skin.surf\n",
      "Overwriting existing file.\n",
      "Saving report to : /Users/mainak/Desktop/github_repos/mne-workshop-mit/report_bem.html\n"
     ]
    },
    {
     "data": {
      "text/plain": [
       "'/Users/mainak/Desktop/github_repos/mne-workshop-mit/report_bem.html'"
      ]
     },
     "execution_count": 63,
     "metadata": {},
     "output_type": "execute_result"
    }
   ],
   "source": [
    "subjects_dir = data_path / 'subjects'\n",
    "\n",
    "rep = Report()\n",
    "rep.add_bem(title='bem', subject='sample', subjects_dir=subjects_dir, decim=36)\n",
    "rep.save('report_bem.html', overwrite=True)"
   ]
  },
  {
   "cell_type": "markdown",
   "metadata": {
    "slideshow": {
     "slide_type": "fragment"
    }
   },
   "source": [
    "Check out the report [here](report_bem.html)"
   ]
  },
  {
   "cell_type": "markdown",
   "metadata": {
    "slideshow": {
     "slide_type": "slide"
    }
   },
   "source": [
    "Custom HTML\n",
    "--------------------"
   ]
  },
  {
   "cell_type": "markdown",
   "metadata": {
    "slideshow": {
     "slide_type": "skip"
    }
   },
   "source": [
    "We can even add custom htmls. For example, we can say:"
   ]
  },
  {
   "cell_type": "code",
   "execution_count": 33,
   "metadata": {
    "slideshow": {
     "slide_type": "fragment"
    }
   },
   "outputs": [],
   "source": [
    "html = f\"\"\"\n",
    "<table class=\"table table-hover\">\n",
    "   <tr>\n",
    "       <th>Meas time range</th>\n",
    "       <th>Sampling freq</th>\n",
    "   </tr>\n",
    "   <tr>\n",
    "       <td> {0:.2f} to {1:.2f} </td>\n",
    "       <td> {2:.2f} </td>\n",
    "   </tr>\n",
    "</table>\n",
    "\"\"\""
   ]
  },
  {
   "cell_type": "code",
   "execution_count": 34,
   "metadata": {
    "slideshow": {
     "slide_type": "subslide"
    }
   },
   "outputs": [
    {
     "name": "stdout",
     "output_type": "stream",
     "text": [
      "Overwriting existing file.\n",
      "Saving report to : /Users/mainak/Desktop/github_repos/mne-workshop-mit/report_bem.html\n"
     ]
    },
    {
     "data": {
      "text/plain": [
       "'/Users/mainak/Desktop/github_repos/mne-workshop-mit/report_bem.html'"
      ]
     },
     "execution_count": 34,
     "metadata": {},
     "output_type": "execute_result"
    }
   ],
   "source": [
    "rep.add_html(html.format(raw.times[0], raw.times[-1], raw.info['sfreq']), title='Info table')\n",
    "rep.save('report_bem.html', overwrite=True)"
   ]
  },
  {
   "cell_type": "markdown",
   "metadata": {
    "slideshow": {
     "slide_type": "fragment"
    }
   },
   "source": [
    "Here is the [report](report_bem.html)."
   ]
  },
  {
   "cell_type": "markdown",
   "metadata": {
    "slideshow": {
     "slide_type": "slide"
    }
   },
   "source": [
    "Custom sliders\n",
    "--------------"
   ]
  },
  {
   "cell_type": "markdown",
   "metadata": {
    "slideshow": {
     "slide_type": "skip"
    }
   },
   "source": [
    "And we can make our own sliders"
   ]
  },
  {
   "cell_type": "code",
   "execution_count": 36,
   "metadata": {},
   "outputs": [],
   "source": [
    "evoked.plot_topomap?"
   ]
  },
  {
   "cell_type": "code",
   "execution_count": 46,
   "metadata": {
    "slideshow": {
     "slide_type": "fragment"
    }
   },
   "outputs": [
    {
     "name": "stdout",
     "output_type": "stream",
     "text": [
      "Embedding : jquery-3.6.0.min.js\n",
      "Embedding : bootstrap.bundle.min.js\n",
      "Embedding : bootstrap.min.css\n",
      "Embedding : bootstrap-table/bootstrap-table.min.js\n",
      "Embedding : bootstrap-table/bootstrap-table.min.css\n",
      "Embedding : bootstrap-table/bootstrap-table-copy-rows.min.js\n",
      "Embedding : bootstrap-table/bootstrap-table-export.min.js\n",
      "Embedding : bootstrap-table/tableExport.min.js\n",
      "Embedding : bootstrap-icons/bootstrap-icons.mne.min.css\n",
      "Embedding : highlightjs/highlight.min.js\n",
      "Embedding : highlightjs/atom-one-dark-reasonable.min.css\n",
      "Overwriting existing file.\n",
      "Saving report to : /Users/mainak/Desktop/github_repos/mne-workshop-mit/report_slider.html\n"
     ]
    },
    {
     "data": {
      "text/plain": [
       "'/Users/mainak/Desktop/github_repos/mne-workshop-mit/report_slider.html'"
      ]
     },
     "execution_count": 46,
     "metadata": {},
     "output_type": "execute_result"
    }
   ],
   "source": [
    "import matplotlib.pyplot as plt\n",
    "fname = data_path / 'MEG' / 'sample' / 'sample_audvis-ave.fif'\n",
    "evoked = mne.read_evokeds(fname, condition='Left Auditory',\n",
    "                          baseline=(None, 0), verbose=False)\n",
    "\n",
    "rep = Report()\n",
    "figs = list()\n",
    "times = evoked.times[::20]\n",
    "for time in times:\n",
    "    figs.append(evoked.plot_topomap(time, vlim=(-300, 300),\n",
    "                                    res=100, show=False))\n",
    "    plt.close(figs[-1])\n",
    "rep.add_figure(figs, title='Evoked Response', caption=times)\n",
    "rep.save('report_slider.html', overwrite=True)"
   ]
  },
  {
   "cell_type": "markdown",
   "metadata": {
    "slideshow": {
     "slide_type": "notes"
    }
   },
   "source": [
    "To learn more about quality assurance, check out [this paper](https://www.frontiersin.org/journals/neuroscience/articles/10.3389/fnins.2018.00530/full)"
   ]
  },
  {
   "cell_type": "markdown",
   "metadata": {
    "slideshow": {
     "slide_type": "subslide"
    }
   },
   "source": [
    "Exercise\n",
    "--------\n",
    "\n",
    "1) Can you think of creative ways to use the report for your own analysis?"
   ]
  },
  {
   "cell_type": "markdown",
   "metadata": {
    "slideshow": {
     "slide_type": "-"
    }
   },
   "source": [
    "<details>\n",
    "<summary>\n",
    "Here are some ideas:<br/><br/>\n",
    "\n",
    "</summary>\n",
    "- sections with subject names instead of preprocessing step<br/>\n",
    "- custom html/javascript to get quality labels<br/>\n",
    "- sliders to browse through the raw data<br/>\n",
    "</details>"
   ]
  }
 ],
 "metadata": {
  "celltoolbar": "Slideshow",
  "kernelspec": {
   "display_name": "Python 3 (ipykernel)",
   "language": "python",
   "name": "python3"
  },
  "language_info": {
   "codemirror_mode": {
    "name": "ipython",
    "version": 3
   },
   "file_extension": ".py",
   "mimetype": "text/x-python",
   "name": "python",
   "nbconvert_exporter": "python",
   "pygments_lexer": "ipython3",
   "version": "3.12.2"
  },
  "livereveal": {
   "enable_chalkboard": true,
   "scroll": true
  }
 },
 "nbformat": 4,
 "nbformat_minor": 2
}
